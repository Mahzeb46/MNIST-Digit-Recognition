{
 "cells": [
  {
   "cell_type": "code",
   "execution_count": null,
   "id": "541ddd6a-a4c9-4957-915d-45cd13f6ab68",
   "metadata": {},
   "outputs": [],
   "source": []
  },
  {
   "cell_type": "markdown",
   "id": "6cb0b611-3cc5-42bb-b310-92b4d39986f7",
   "metadata": {},
   "source": [
    "#  Chapter 3 Exercises"
   ]
  },
  {
   "cell_type": "markdown",
   "id": "26081a6e-c951-4fc3-8190-85be41d266cc",
   "metadata": {},
   "source": [
    "## Exercise 01"
   ]
  },
  {
   "cell_type": "markdown",
   "id": "224f226f-fe73-4de1-a0d3-e913ead255c1",
   "metadata": {},
   "source": [
    "### Downloading MNIST Dataset\n"
   ]
  },
  {
   "cell_type": "markdown",
   "id": "61483615-ad86-44dc-ab2c-8630dec55b08",
   "metadata": {},
   "source": [
    "We load the MNIST handwritten digit dataset using fetch_openml().\n",
    "\n",
    "mnist_784 indicates that the dataset has 784 features (28x28 pixel images).\n",
    "\n",
    "X contains the image data (flattened pixel values).\n",
    "\n",
    "y contains the corresponding labels (the digit class: 0-9).\n",
    "\n",
    "Note: In this version you forgot to cast y to integers; it's good practice to use y = mnist.target.astype(int) to ensure numerical labels. But it still works here because GridSearchCV internally handles string labels too."
   ]
  },
  {
   "cell_type": "code",
   "execution_count": 1,
   "id": "f331f99e-3abd-45d5-ac92-153957ea1664",
   "metadata": {},
   "outputs": [],
   "source": [
    "from sklearn.datasets import fetch_openml\n",
    "\n",
    "mnist = fetch_openml('mnist_784', version=1, as_frame=False)\n",
    "X, y = mnist.data, mnist.target\n"
   ]
  },
  {
   "cell_type": "markdown",
   "id": "679c5069-31ca-4f7c-bc08-7d8c66c7c96d",
   "metadata": {},
   "source": [
    "### Train-Test Split\n"
   ]
  },
  {
   "cell_type": "markdown",
   "id": "ea6cf745-c359-4689-9b84-505f00b0b0ea",
   "metadata": {},
   "source": [
    "The dataset is manually split into:\n",
    "\n",
    "60,000 training images (X_train, y_train)\n",
    "\n",
    "10,000 test images (X_test, y_test)\n",
    "\n",
    "This is the standard MNIST train/test split."
   ]
  },
  {
   "cell_type": "code",
   "execution_count": 2,
   "id": "82b2c8b5-f728-42ba-901c-fd5ffe66b6ab",
   "metadata": {},
   "outputs": [],
   "source": [
    "X_train, X_test = X[:60000], X[60000:]\n",
    "y_train, y_test = y[:60000], y[60000:]\n"
   ]
  },
  {
   "cell_type": "markdown",
   "id": "dccd4cff-13d2-4a9d-a88b-6c4c815731d2",
   "metadata": {},
   "source": [
    "### Hyperparameter Search\n",
    "\n",
    "Used GridSearchCV to search for best n_neighbors and weights for KNeighborsClassifier"
   ]
  },
  {
   "cell_type": "markdown",
   "id": "196b83f6-840b-4631-b013-d46dabf55faa",
   "metadata": {},
   "source": [
    "**Model:** We use KNeighborsClassifier (KNN) which is a simple and powerful instance-based learning algorithm.\n",
    "\n",
    "**Hyperparameters Tuned:**\n",
    "\n",
    "**n_neighbors:** number of neighbors to consider (3, 4, or 5).\n",
    "\n",
    "**weights:** whether to give equal weights (uniform) or weight closer neighbors higher (distance).\n",
    "\n",
    "**Grid Search:**\n",
    "\n",
    "GridSearchCV automatically tests all combinations of parameters using 3-fold cross-validation (cv=3) on the training data.\n",
    "\n",
    "It selects the parameter combination that gives the highest average accuracy across the folds.\n",
    "\n",
    "**Output:**\n",
    "\n",
    "grid_search.best_params_ prints the best hyperparameter combination found."
   ]
  },
  {
   "cell_type": "code",
   "execution_count": 3,
   "id": "c9acf581-ca76-4987-aa5b-d6188ee304c6",
   "metadata": {},
   "outputs": [
    {
     "name": "stdout",
     "output_type": "stream",
     "text": [
      "{'n_neighbors': 4, 'weights': 'distance'}\n"
     ]
    }
   ],
   "source": [
    "from sklearn.model_selection import GridSearchCV\n",
    "from sklearn.neighbors import KNeighborsClassifier\n",
    "\n",
    "param_grid = {\n",
    "    'n_neighbors': [3, 4, 5],\n",
    "    'weights': ['uniform', 'distance']\n",
    "}\n",
    "knn = KNeighborsClassifier()\n",
    "grid_search = GridSearchCV(knn, param_grid, cv=3, scoring='accuracy')\n",
    "grid_search.fit(X_train, y_train)\n",
    "print(grid_search.best_params_)\n"
   ]
  },
  {
   "cell_type": "markdown",
   "id": "485391ff-15f7-48d0-a87b-2236bfcec311",
   "metadata": {},
   "source": [
    "### Evaluating Best Model on Test Set"
   ]
  },
  {
   "cell_type": "markdown",
   "id": "86135fca-654a-4367-acab-78ba7807fc09",
   "metadata": {},
   "source": [
    "grid_search.best_estimator_ returns the best model found during grid search.\n",
    "\n",
    "We use this model to predict labels on the test dataset (X_test).\n",
    "\n",
    "accuracy_score() computes the percentage of correctly classified test samples.\n",
    "\n",
    "This accuracy is the final performance metric for your optimized KNN model."
   ]
  },
  {
   "cell_type": "code",
   "execution_count": 4,
   "id": "71b0c021-0279-4661-9fd1-4f1195b0121b",
   "metadata": {},
   "outputs": [
    {
     "name": "stdout",
     "output_type": "stream",
     "text": [
      "Test Accuracy: 0.9714\n"
     ]
    }
   ],
   "source": [
    "from sklearn.metrics import accuracy_score\n",
    "\n",
    "best_knn = grid_search.best_estimator_\n",
    "y_pred = best_knn.predict(X_test)\n",
    "print(\"Test Accuracy:\", accuracy_score(y_test, y_pred))\n"
   ]
  },
  {
   "cell_type": "markdown",
   "id": "becb8ecb-6d80-489e-bf6c-ebc64005e9b7",
   "metadata": {},
   "source": [
    "## Exercise 02"
   ]
  },
  {
   "cell_type": "markdown",
   "id": "cade1d47-67e5-4024-a346-df282b78943c",
   "metadata": {},
   "source": [
    "Data augmentation was applied by shifting images in 4 directions (left, right, up, down), expanding training data from 60,000 to 300,000 samples.\n",
    "\n",
    "Random Forest classifier was retrained on this augmented data, and accuracy improved significantly.\n",
    "\n",
    "Due to computational time constraints, KNN hyperparameter tuning was performed on a smaller subset (10,000 samples) using GridSearchCV, which quickly identified optimal hyperparameters.\n",
    "\n",
    "Both models were then evaluated on the full MNIST test set, and both achieved high accuracy, meeting the target performance objectives."
   ]
  },
  {
   "cell_type": "markdown",
   "id": "a5b6fe62-03ba-445b-a487-9d9b37f8578b",
   "metadata": {},
   "source": [
    "### Load MNIST Dataset"
   ]
  },
  {
   "cell_type": "code",
   "execution_count": 5,
   "id": "cc6fac09-adf9-49ba-9446-621458d26063",
   "metadata": {},
   "outputs": [],
   "source": [
    "from sklearn.datasets import fetch_openml\n",
    "\n",
    "# Load MNIST dataset\n",
    "mnist = fetch_openml('mnist_784', version=1, as_frame=False)\n",
    "X, y = mnist.data, mnist.target.astype(int)\n",
    "\n",
    "# Split into train and test\n",
    "X_train, X_test = X[:60000], X[60000:]\n",
    "y_train, y_test = y[:60000], y[60000:]\n"
   ]
  },
  {
   "cell_type": "markdown",
   "id": "5d7b7a37-ec38-4a6b-b60b-7ad62e5ad20c",
   "metadata": {},
   "source": [
    "### Data Augmentation (Shifting Images)"
   ]
  },
  {
   "cell_type": "code",
   "execution_count": 6,
   "id": "40eb154b-0c0d-473a-be8c-4e01acc66b78",
   "metadata": {},
   "outputs": [
    {
     "name": "stdout",
     "output_type": "stream",
     "text": [
      "Augmented dataset shape: (300000, 784)\n"
     ]
    }
   ],
   "source": [
    "import numpy as np\n",
    "from scipy.ndimage import shift\n",
    "\n",
    "# Function to shift images\n",
    "def shift_image(image, dx, dy):\n",
    "    image = image.reshape(28, 28)\n",
    "    shifted = shift(image, [dy, dx], cval=0, mode='constant')\n",
    "    return shifted.reshape(784)\n",
    "\n",
    "# Augment the training data with shifted copies\n",
    "X_train_augmented = [X_train]\n",
    "y_train_augmented = [y_train]\n",
    "\n",
    "for dx, dy in [(-1, 0), (1, 0), (0, -1), (0, 1)]:  # Left, Right, Up, Down\n",
    "    shifted_images = np.apply_along_axis(shift_image, 1, X_train, dx, dy)\n",
    "    X_train_augmented.append(shifted_images)\n",
    "    y_train_augmented.append(y_train)\n",
    "\n",
    "# Concatenate all data\n",
    "X_train_augmented = np.concatenate(X_train_augmented)\n",
    "y_train_augmented = np.concatenate(y_train_augmented)\n",
    "\n",
    "print(\"Augmented dataset shape:\", X_train_augmented.shape)\n"
   ]
  },
  {
   "cell_type": "markdown",
   "id": "56cf49b4-7c5a-4470-9f6c-9e3e6a1d9717",
   "metadata": {},
   "source": [
    "### Retrain RandomForest on Augmented Data"
   ]
  },
  {
   "cell_type": "code",
   "execution_count": 7,
   "id": "bccfa2fa-0d2b-4b42-bada-408561b001d1",
   "metadata": {},
   "outputs": [
    {
     "name": "stdout",
     "output_type": "stream",
     "text": [
      "RandomForestClassifier after augmentation:\n",
      "Accuracy: 0.9799\n",
      "Classification Report:\n",
      "               precision    recall  f1-score   support\n",
      "\n",
      "           0       0.98      0.99      0.98       980\n",
      "           1       0.99      0.99      0.99      1135\n",
      "           2       0.98      0.98      0.98      1032\n",
      "           3       0.98      0.98      0.98      1010\n",
      "           4       0.99      0.98      0.98       982\n",
      "           5       0.99      0.97      0.98       892\n",
      "           6       0.99      0.98      0.98       958\n",
      "           7       0.98      0.98      0.98      1028\n",
      "           8       0.96      0.98      0.97       974\n",
      "           9       0.97      0.97      0.97      1009\n",
      "\n",
      "    accuracy                           0.98     10000\n",
      "   macro avg       0.98      0.98      0.98     10000\n",
      "weighted avg       0.98      0.98      0.98     10000\n",
      "\n",
      "Confusion Matrix:\n",
      " [[ 973    0    0    0    0    1    1    1    3    1]\n",
      " [   0 1126    2    2    0    0    1    1    2    1]\n",
      " [   4    0 1011    3    2    0    2    6    4    0]\n",
      " [   0    0    5  986    0    4    0    8    5    2]\n",
      " [   1    0    0    0  961    0    5    0    2   13]\n",
      " [   2    0    1    8    3  868    3    1    5    1]\n",
      " [   7    3    0    0    2    3  939    0    4    0]\n",
      " [   1    4   11    0    0    0    0 1003    2    7]\n",
      " [   3    0    1    3    2    4    1    2  955    3]\n",
      " [   5    3    1    5    5    1    0    4    8  977]]\n"
     ]
    }
   ],
   "source": [
    "from sklearn.ensemble import RandomForestClassifier\n",
    "from sklearn.metrics import classification_report, confusion_matrix, accuracy_score\n",
    "\n",
    "# Train Random Forest on augmented data\n",
    "rf_clf_aug = RandomForestClassifier(n_estimators=100, random_state=42)\n",
    "rf_clf_aug.fit(X_train_augmented, y_train_augmented)\n",
    "\n",
    "# Evaluate on original test set\n",
    "y_pred_rf_aug = rf_clf_aug.predict(X_test)\n",
    "\n",
    "print(\"RandomForestClassifier after augmentation:\")\n",
    "print(\"Accuracy:\", accuracy_score(y_test, y_pred_rf_aug))\n",
    "print(\"Classification Report:\\n\", classification_report(y_test, y_pred_rf_aug))\n",
    "print(\"Confusion Matrix:\\n\", confusion_matrix(y_test, y_pred_rf_aug))\n"
   ]
  },
  {
   "cell_type": "markdown",
   "id": "d8bd2363-2f41-456f-b5ba-f54907d30c64",
   "metadata": {},
   "source": [
    "### KNN Hyperparameter Tuning (on smaller subset for speed)"
   ]
  },
  {
   "cell_type": "code",
   "execution_count": 8,
   "id": "5e3c79f3-31af-4920-99d2-6ceeb5bc962e",
   "metadata": {},
   "outputs": [
    {
     "name": "stdout",
     "output_type": "stream",
     "text": [
      "Best Parameters: {'n_neighbors': 4, 'weights': 'distance'}\n",
      "KNN Test Accuracy: 0.9505\n",
      "Classification Report:\n",
      "               precision    recall  f1-score   support\n",
      "\n",
      "           0       0.96      0.99      0.97       980\n",
      "           1       0.93      0.99      0.96      1135\n",
      "           2       0.98      0.93      0.95      1032\n",
      "           3       0.94      0.95      0.94      1010\n",
      "           4       0.97      0.93      0.95       982\n",
      "           5       0.95      0.94      0.95       892\n",
      "           6       0.96      0.98      0.97       958\n",
      "           7       0.94      0.95      0.94      1028\n",
      "           8       0.97      0.89      0.93       974\n",
      "           9       0.92      0.94      0.93      1009\n",
      "\n",
      "    accuracy                           0.95     10000\n",
      "   macro avg       0.95      0.95      0.95     10000\n",
      "weighted avg       0.95      0.95      0.95     10000\n",
      "\n",
      "Confusion Matrix:\n",
      " [[ 970    1    1    0    0    1    5    1    1    0]\n",
      " [   0 1129    1    3    0    0    2    0    0    0]\n",
      " [  16   18  957    6    0    0    5   23    7    0]\n",
      " [   1    3    4  958    1   13    3   10   10    7]\n",
      " [   0   12    0    0  918    0    9    5    2   36]\n",
      " [   6    3    0   18    4  839    9    2    3    8]\n",
      " [   7    5    0    0    3    1  942    0    0    0]\n",
      " [   0   31    5    0    3    1    0  974    0   14]\n",
      " [   8    4    6   28    6   21    6    8  869   18]\n",
      " [   5    7    3    7   15    4    1   13    5  949]]\n"
     ]
    }
   ],
   "source": [
    "from sklearn.neighbors import KNeighborsClassifier\n",
    "from sklearn.model_selection import GridSearchCV\n",
    "\n",
    "# Use smaller subset for fast tuning\n",
    "X_small = X_train[:10000]\n",
    "y_small = y_train[:10000]\n",
    "\n",
    "# Define hyperparameter grid\n",
    "param_grid = {\n",
    "    'n_neighbors': [3, 4, 5],\n",
    "    'weights': ['uniform', 'distance']\n",
    "}\n",
    "\n",
    "# GridSearchCV with parallel processing\n",
    "knn = KNeighborsClassifier()\n",
    "grid_search = GridSearchCV(knn, param_grid, cv=3, scoring='accuracy', n_jobs=-1)\n",
    "grid_search.fit(X_small, y_small)\n",
    "\n",
    "# Best parameters\n",
    "print(\"Best Parameters:\", grid_search.best_params_)\n",
    "best_knn = grid_search.best_estimator_\n",
    "\n",
    "# Evaluate best KNN on full test set\n",
    "y_pred_knn = best_knn.predict(X_test)\n",
    "print(\"KNN Test Accuracy:\", accuracy_score(y_test, y_pred_knn))\n",
    "print(\"Classification Report:\\n\", classification_report(y_test, y_pred_knn))\n",
    "print(\"Confusion Matrix:\\n\", confusion_matrix(y_test, y_pred_knn))\n"
   ]
  },
  {
   "cell_type": "markdown",
   "id": "bc0ebedc-972a-4dfe-98c8-e1f0f4f4e632",
   "metadata": {},
   "source": [
    "## Exercise 03"
   ]
  },
  {
   "cell_type": "markdown",
   "id": "0b56ea54-62b1-4d85-846f-1f1902b4b0b6",
   "metadata": {},
   "source": [
    "### Loading Titanic Dataset"
   ]
  },
  {
   "cell_type": "markdown",
   "id": "6d41c7c3-2bbc-48ea-a2b4-9cae3926b04d",
   "metadata": {},
   "source": [
    "The Titanic dataset is directly loaded from Seaborn’s built-in datasets."
   ]
  },
  {
   "cell_type": "code",
   "execution_count": 10,
   "id": "7d2a0a6b-5772-4dfb-8340-9b9d49c8280f",
   "metadata": {},
   "outputs": [],
   "source": [
    "import seaborn as sns\n",
    "titanic = sns.load_dataset('titanic')\n"
   ]
  },
  {
   "cell_type": "markdown",
   "id": "558fbe21-fb57-46db-8754-671c35f85312",
   "metadata": {},
   "source": [
    "### Data Exploration\n",
    "Check data types, missing values, etc."
   ]
  },
  {
   "cell_type": "markdown",
   "id": "0e2df415-b628-4fb6-8dde-6e01b8983d50",
   "metadata": {},
   "source": [
    "titanic.info() gives an overview of the data types, columns, and missing values.\n",
    "\n",
    "titanic.head() displays the first few rows of data.\n",
    "\n",
    "titanic.isnull().sum() shows the total number of missing values in each column.\n",
    "\n",
    "This exploratory step helps us understand which columns have missing data and what preprocessing is required."
   ]
  },
  {
   "cell_type": "code",
   "execution_count": 11,
   "id": "d2d6c742-31ee-4808-8277-787c287d744d",
   "metadata": {},
   "outputs": [
    {
     "name": "stdout",
     "output_type": "stream",
     "text": [
      "<class 'pandas.core.frame.DataFrame'>\n",
      "RangeIndex: 891 entries, 0 to 890\n",
      "Data columns (total 15 columns):\n",
      " #   Column       Non-Null Count  Dtype   \n",
      "---  ------       --------------  -----   \n",
      " 0   survived     891 non-null    int64   \n",
      " 1   pclass       891 non-null    int64   \n",
      " 2   sex          891 non-null    object  \n",
      " 3   age          714 non-null    float64 \n",
      " 4   sibsp        891 non-null    int64   \n",
      " 5   parch        891 non-null    int64   \n",
      " 6   fare         891 non-null    float64 \n",
      " 7   embarked     889 non-null    object  \n",
      " 8   class        891 non-null    category\n",
      " 9   who          891 non-null    object  \n",
      " 10  adult_male   891 non-null    bool    \n",
      " 11  deck         203 non-null    category\n",
      " 12  embark_town  889 non-null    object  \n",
      " 13  alive        891 non-null    object  \n",
      " 14  alone        891 non-null    bool    \n",
      "dtypes: bool(2), category(2), float64(2), int64(4), object(5)\n",
      "memory usage: 80.7+ KB\n"
     ]
    },
    {
     "data": {
      "text/plain": [
       "survived         0\n",
       "pclass           0\n",
       "sex              0\n",
       "age            177\n",
       "sibsp            0\n",
       "parch            0\n",
       "fare             0\n",
       "embarked         2\n",
       "class            0\n",
       "who              0\n",
       "adult_male       0\n",
       "deck           688\n",
       "embark_town      2\n",
       "alive            0\n",
       "alone            0\n",
       "dtype: int64"
      ]
     },
     "execution_count": 11,
     "metadata": {},
     "output_type": "execute_result"
    }
   ],
   "source": [
    "titanic.info()\n",
    "titanic.head()\n",
    "titanic.isnull().sum()\n"
   ]
  },
  {
   "cell_type": "markdown",
   "id": "ac5a56d4-0d7b-4ded-a5b9-1c69d437cb67",
   "metadata": {},
   "source": [
    "### Preprocessing\n",
    "Handle missing values (e.g., age, embarked, etc)\n",
    "\n",
    "Encode categorical features (sex, embarked, class)\n",
    "\n",
    "Select useful features (you can start with: sex, age, fare, pclass)"
   ]
  },
  {
   "cell_type": "markdown",
   "id": "a4670f12-df7c-4a41-a262-99afe75d117a",
   "metadata": {},
   "source": [
    "**Missing Values:**\n",
    "\n",
    "Rows with missing values in the embarked column are dropped.\n",
    "\n",
    "Missing values in the age column are filled with the median age.\n",
    "\n",
    "**Encoding Categorical Features:**\n",
    "\n",
    "sex and embarked are categorical features.\n",
    "\n",
    "These are converted to numerical values using simple mapping:\n",
    "\n",
    "**sex: male → 0, female → 1.**\n",
    "\n",
    "**embarked: S → 0, C → 1, Q → 2.**\n",
    "\n",
    "This step is essential because most machine learning models work with numerical data.\n",
    "\n"
   ]
  },
  {
   "cell_type": "code",
   "execution_count": 12,
   "id": "7d688d50-c36f-4510-a594-d20f4c3df660",
   "metadata": {},
   "outputs": [],
   "source": [
    "# Drop rows with missing 'embarked'\n",
    "titanic = titanic.dropna(subset=['embarked'])\n",
    "\n",
    "# Fill missing age with median\n",
    "titanic['age'] = titanic['age'].fillna(titanic['age'].median())\n",
    "\n",
    "# Convert 'sex' and 'embarked' to numeric\n",
    "titanic['sex'] = titanic['sex'].map({'male': 0, 'female': 1})\n",
    "titanic['embarked'] = titanic['embarked'].map({'S': 0, 'C': 1, 'Q': 2})\n"
   ]
  },
  {
   "cell_type": "markdown",
   "id": "c803477f-ff48-4015-b0d3-07300da00ec4",
   "metadata": {},
   "source": [
    "### Train/Test Split"
   ]
  },
  {
   "cell_type": "markdown",
   "id": "c89014cd-ef15-4cac-bff6-b5afa8d1102b",
   "metadata": {},
   "source": [
    "**Feature Selection (X):**\n",
    "\n",
    "Selected relevant features: pclass, sex, age, fare, and embarked.\n",
    "\n",
    "**Target Variable (y):**\n",
    "\n",
    "The target is survived (binary classification: 0 = did not survive, 1 = survived).\n",
    "\n",
    "**Data Splitting:**\n",
    "\n",
    "Data is split into 80% training and 20% testing sets using train_test_split().\n",
    "\n"
   ]
  },
  {
   "cell_type": "code",
   "execution_count": 13,
   "id": "83f01220-b407-4bfc-8145-1c44e8cf885f",
   "metadata": {},
   "outputs": [],
   "source": [
    "from sklearn.model_selection import train_test_split\n",
    "\n",
    "X = titanic[['pclass', 'sex', 'age', 'fare', 'embarked']]\n",
    "y = titanic['survived']\n",
    "\n",
    "X_train, X_test, y_train, y_test = train_test_split(X, y, test_size=0.2, random_state=42)\n"
   ]
  },
  {
   "cell_type": "markdown",
   "id": "5e0959f4-1a72-40fa-bdff-89a6f4a18e91",
   "metadata": {},
   "source": [
    "### Train Classifier\n"
   ]
  },
  {
   "cell_type": "markdown",
   "id": "98db9d24-a707-46d7-b41f-cc690f0c08c6",
   "metadata": {},
   "source": [
    "**Model Selection:**\n",
    "\n",
    "Used RandomForestClassifier with 100 trees (n_estimators=100).\n",
    "\n",
    "Random Forest works well with tabular data and handles non-linear relationships.\n",
    "\n",
    "**Model Fitting:**\n",
    "\n",
    "Trained the model on X_train and y_train.\n",
    "\n",
    "**Predictions:**\n",
    "\n",
    "Made predictions on the test data X_test.\n",
    "\n",
    "**Evaluation:**\n",
    "\n",
    "classification_report() provides precision, recall, f1-score.\n",
    "\n",
    "confusion_matrix() gives a summary of correct vs incorrect predictions.\n",
    "\n"
   ]
  },
  {
   "cell_type": "code",
   "execution_count": 14,
   "id": "584fd073-b23f-4a5c-a124-e0b3b81798c9",
   "metadata": {},
   "outputs": [
    {
     "name": "stdout",
     "output_type": "stream",
     "text": [
      "              precision    recall  f1-score   support\n",
      "\n",
      "           0       0.87      0.81      0.84       109\n",
      "           1       0.73      0.81      0.77        69\n",
      "\n",
      "    accuracy                           0.81       178\n",
      "   macro avg       0.80      0.81      0.80       178\n",
      "weighted avg       0.82      0.81      0.81       178\n",
      "\n",
      "[[88 21]\n",
      " [13 56]]\n"
     ]
    }
   ],
   "source": [
    "from sklearn.ensemble import RandomForestClassifier\n",
    "from sklearn.metrics import classification_report, confusion_matrix\n",
    "\n",
    "model = RandomForestClassifier(n_estimators=100, random_state=42)\n",
    "model.fit(X_train, y_train)\n",
    "\n",
    "y_pred = model.predict(X_test)\n",
    "\n",
    "print(classification_report(y_test, y_pred))\n",
    "print(confusion_matrix(y_test, y_pred))\n"
   ]
  },
  {
   "cell_type": "markdown",
   "id": "f1187653-610f-4591-bfe5-f39d6ed4b684",
   "metadata": {},
   "source": [
    "### Performance Evaluation"
   ]
  },
  {
   "cell_type": "markdown",
   "id": "a0ddf6ed-7989-4f63-88b1-2c2eff577aa6",
   "metadata": {},
   "source": [
    "**Accuracy:**\n",
    "\n",
    "accuracy_score() calculates the overall correct predictions percentage.\n",
    "\n",
    "**Classification Report:**\n",
    "\n",
    "Displays precision, recall, and f1-score for both classes (survived vs not survived).\n",
    "\n",
    "**Confusion Matrix:**\n",
    "\n",
    "Shows how many actual survivors/non-survivors were correctly/incorrectly predicted.\n",
    "\n",
    "**Visualization:**\n",
    "\n",
    "The confusion matrix is visualized as a heatmap using seaborn for easier interpretation.\n",
    "\n"
   ]
  },
  {
   "cell_type": "code",
   "execution_count": 15,
   "id": "4a423a84-e2e3-4555-9ba1-7f076ca5cfcb",
   "metadata": {},
   "outputs": [
    {
     "name": "stdout",
     "output_type": "stream",
     "text": [
      "Accuracy: 0.81\n",
      "Classification Report:\n",
      "              precision    recall  f1-score   support\n",
      "\n",
      "           0       0.87      0.81      0.84       109\n",
      "           1       0.73      0.81      0.77        69\n",
      "\n",
      "    accuracy                           0.81       178\n",
      "   macro avg       0.80      0.81      0.80       178\n",
      "weighted avg       0.82      0.81      0.81       178\n",
      "\n",
      "Confusion Matrix:\n",
      "[[88 21]\n",
      " [13 56]]\n"
     ]
    },
    {
     "data": {
      "image/png": "[encoded data removed]",
      "text/plain": [
       "<Figure size 600x400 with 2 Axes>"
      ]
     },
     "metadata": {},
     "output_type": "display_data"
    }
   ],
   "source": [
    "from sklearn.metrics import accuracy_score, classification_report, confusion_matrix\n",
    "import seaborn as sns\n",
    "import matplotlib.pyplot as plt\n",
    "\n",
    "# Accuracy\n",
    "accuracy = accuracy_score(y_test, y_pred)\n",
    "print(f\"Accuracy: {accuracy:.2f}\")\n",
    "\n",
    "# Detailed classification report\n",
    "print(\"Classification Report:\")\n",
    "print(classification_report(y_test, y_pred))\n",
    "\n",
    "# Confusion Matrix\n",
    "cm = confusion_matrix(y_test, y_pred)\n",
    "print(\"Confusion Matrix:\")\n",
    "print(cm)\n",
    "\n",
    "# Plot Confusion Matrix Heatmap\n",
    "plt.figure(figsize=(6,4))\n",
    "sns.heatmap(cm, annot=True, fmt='d', cmap='Blues')\n",
    "plt.title(\"Confusion Matrix\")\n",
    "plt.xlabel(\"Predicted\")\n",
    "plt.ylabel(\"Actual\")\n",
    "plt.show()\n"
   ]
  },
  {
   "cell_type": "markdown",
   "id": "1ccc33dd-79c2-4921-85d6-84b4df73c394",
   "metadata": {},
   "source": [
    "# Comparison Table 1: SGD Classifier vs Random Forest"
   ]
  },
  {
   "cell_type": "markdown",
   "id": "4e6ccfa2-94c2-4091-9306-bfd1799edf68",
   "metadata": {},
   "source": [
    "| Feature                      | SGD Classifier                                        | Random Forest Classifier                         |\n",
    "| ---------------------------- | ----------------------------------------------------- | ------------------------------------------------ |\n",
    "| **Algorithm Type**           | Linear model                                          | Ensemble of decision trees                       |\n",
    "| **Suitable For**             | Linearly separable data                               | Both linear & non-linear data                    |\n",
    "| **Hyperparameters**          | Regularization strength, loss function, learning rate | Number of trees, max depth, min samples per leaf |\n",
    "| **Training Speed**           | Very fast (especially on large datasets)              | Slower (due to training multiple trees)          |\n",
    "| **Prediction Speed**         | Very fast                                             | Fast but slightly slower than SGD                |\n",
    "| **Handling Non-Linearity**   | Poor (only handles linear boundaries)                 | Excellent (handles complex patterns)             |\n",
    "| **Robustness to Outliers**   | Sensitive to outliers                                 | Robust to outliers                               |\n",
    "| **Interpretability**         | Easy (linear weights can be interpreted)              | Harder (ensemble behavior is more complex)       |\n",
    "| **Accuracy (MNIST results)** | \\~91% (lower)                                         | \\~97% (higher)                                   |\n",
    "| **Memory Usage**             | Very low (only stores coefficients)                   | High (stores multiple full decision trees)       |"
   ]
  },
  {
   "cell_type": "markdown",
   "id": "c5909df5-1eac-42dd-b510-1219ce3427e5",
   "metadata": {},
   "source": [
    "# Comparison Table 2: OvR vs OvO \n",
    "### Strategies for Multiclass Classification"
   ]
  },
  {
   "cell_type": "markdown",
   "id": "d752b0d1-ea90-4a98-87ec-d9d56977ac0b",
   "metadata": {},
   "source": [
    "| Feature                                   | One-vs-Rest (OvR)                                            | One-vs-One (OvO)                                                  |\r\n",
    "| ----------------------------------------- | ------------------------------------------------------------ | ----------------------------------------------------------------- |\r\n",
    "| **How it works**                          | Trains one classifier per class vs rest (binary classifiers) | Trains one classifier per pair of classes                         |\r\n",
    "| **Number of classifiers (for N classes)** | N classifiers                                                | N×(N−1)/2 classifiers                                             |\r\n",
    "| **Training Time**                         | Faster (fewer classifiers)                                   | Slower (more classifiers)                                         |\r\n",
    "| **Prediction Time**                       | Faster                                                       | Slower                                                            |\r\n",
    "| **Complexity**                            | Lower                                                        | Higher                                                            |\r\n",
    "| **When Preferred**                        | Large datasets, many classes                                 | Small datasets, few classes                                       |\r\n",
    "| **Support in Scikit-learn**               | Default for many classifiers                                 | Available (can be explicitly selected using `OneVsOneClassifier`) |\r\n",
    "| **Example in MNIST**                      | 10 classifiers (for 10 digits)                               | 45 classifiers (for all digit pairs)                              |"
   ]
  },
  {
   "cell_type": "markdown",
   "id": "e06e923b-b571-48d7-ac1b-bc4ee4273307",
   "metadata": {},
   "source": [
    "# MNIST Digit Recognition Project"
   ]
  },
  {
   "cell_type": "markdown",
   "id": "a93d1074-a4dc-46ff-945e-f54f43b1a05c",
   "metadata": {},
   "source": [
    "## Project Objective\n",
    "The goal of this project is to build a complete digit classification pipeline using machine learning techniques covered in Chapter 3 — Classification of Hands-On Machine Learning with Scikit-Learn, TensorFlow, and Keras (3rd Edition). The project uses the MNIST dataset to explore different classification algorithms, performance evaluation techniques, error analysis, data augmentation, and deployment of the model as a web application."
   ]
  },
  {
   "cell_type": "markdown",
   "id": "1285ac5b-0028-41b9-935b-282114d7301a",
   "metadata": {},
   "source": [
    "## Dataset Description\n",
    "**Dataset Used:** MNIST (Modified National Institute of Standards and Technology)\n",
    "\n",
    "**Source:** Fetched directly from OpenML\n",
    "\n",
    "**Dataset Size:** 70,000 images (60,000 training + 10,000 testing)\n",
    "\n",
    "**Image Format:** Grayscale images of handwritten digits (0–9)\n",
    "\n",
    "**Image Size:** 28 x 28 pixels (784 features per image)\n",
    "\n",
    "The MNIST dataset is a standard benchmark for image classification tasks and is widely used for educational and research purposes."
   ]
  },
  {
   "cell_type": "markdown",
   "id": "19077dd6-324b-4c7d-8f93-5dc28f46c04a",
   "metadata": {},
   "source": [
    "## Loading Dataset"
   ]
  },
  {
   "cell_type": "markdown",
   "id": "32552458-ae67-4e39-b7fe-337677f55fcd",
   "metadata": {},
   "source": [
    "The MNIST dataset is fetched from OpenML using fetch_openml().\n",
    "\n",
    "mnist_784 refers to the dataset where each image is 28x28 pixels (total 784 features).\n",
    "\n",
    "The dataset contains 70,000 grayscale images of handwritten digits (0–9).\n",
    "\n",
    "The labels y are converted from strings to integers using .astype(int)."
   ]
  },
  {
   "cell_type": "code",
   "execution_count": 1,
   "id": "1fcf35e3-8249-4efc-8c5d-bece98f31380",
   "metadata": {},
   "outputs": [],
   "source": [
    "from sklearn.datasets import fetch_openml\n",
    "\n",
    "mnist = fetch_openml('mnist_784', version=1, as_frame=False)\n",
    "X, y = mnist.data, mnist.target.astype(int)"
   ]
  },
  {
   "cell_type": "markdown",
   "id": "fea05053-9567-4803-bf03-4c8d68e3eaab",
   "metadata": {},
   "source": [
    "## Train-Test Split (60k train, 10k test)"
   ]
  },
  {
   "cell_type": "code",
   "execution_count": 2,
   "id": "06c40750-8f22-4bbb-9139-c4c7e9a28063",
   "metadata": {},
   "outputs": [],
   "source": [
    "X_train, X_test = X[:60000], X[60000:]\n",
    "y_train, y_test = y[:60000], y[60000:]"
   ]
  },
  {
   "cell_type": "markdown",
   "id": "4e87ac4a-f0f0-4a81-8354-071868f3303c",
   "metadata": {},
   "source": [
    "The dataset is divided into 60,000 samples for training and 10,000 samples for testing.\n",
    "\n",
    "This follows the standard split used in most MNIST experiments."
   ]
  },
  {
   "cell_type": "markdown",
   "id": "19a0935c-9d4e-494c-a93f-25513147db77",
   "metadata": {},
   "source": [
    "## Feature Scaling"
   ]
  },
  {
   "cell_type": "markdown",
   "id": "4dcfe1c9-6d5f-4e0a-866b-a8a8d0fd9c85",
   "metadata": {},
   "source": [
    "Scaling is applied because some models (like SGDClassifier) are sensitive to feature magnitude.\n",
    "\n",
    "The pixel values are normalized to have zero mean and unit variance using StandardScaler.\n",
    "\n",
    "Note: Random Forest does not require scaling, but linear models do."
   ]
  },
  {
   "cell_type": "code",
   "execution_count": 3,
   "id": "5fc47d06-e45e-47bd-8b88-0c27857d1b15",
   "metadata": {},
   "outputs": [],
   "source": [
    "from sklearn.preprocessing import StandardScaler\n",
    "\n",
    "scaler = StandardScaler()\n",
    "X_train_scaled = scaler.fit_transform(X_train)\n",
    "X_test_scaled = scaler.transform(X_test)"
   ]
  },
  {
   "cell_type": "markdown",
   "id": "585f3df8-e5d3-4b40-9fb2-261e225750a4",
   "metadata": {},
   "source": [
    "## SGD Classifier"
   ]
  },
  {
   "cell_type": "markdown",
   "id": "cb7e190b-e55d-4a7e-b1c2-cd7506cc6cbe",
   "metadata": {},
   "source": [
    "SGDClassifier is used here with hinge loss, which makes it equivalent to a linear Support Vector Machine (SVM).\n",
    "\n",
    "random_state=42 ensures reproducibility of results.\n",
    "\n",
    "The classifier is trained on the scaled training data."
   ]
  },
  {
   "cell_type": "code",
   "execution_count": 4,
   "id": "086b9e2b-9d02-480e-8dbb-f8ea57b72a44",
   "metadata": {},
   "outputs": [
    {
     "data": {
      "text/html": [
       "<style>#sk-container-id-1 {\n",
       "  /* Definition of color scheme common for light and dark mode */\n",
       "  --sklearn-color-text: #000;\n",
       "  --sklearn-color-text-muted: #666;\n",
       "  --sklearn-color-line: gray;\n",
       "  /* Definition of color scheme for unfitted estimators */\n",
       "  --sklearn-color-unfitted-level-0: #fff5e6;\n",
       "  --sklearn-color-unfitted-level-1: #f6e4d2;\n",
       "  --sklearn-color-unfitted-level-2: #ffe0b3;\n",
       "  --sklearn-color-unfitted-level-3: chocolate;\n",
       "  /* Definition of color scheme for fitted estimators */\n",
       "  --sklearn-color-fitted-level-0: #f0f8ff;\n",
       "  --sklearn-color-fitted-level-1: #d4ebff;\n",
       "  --sklearn-color-fitted-level-2: #b3dbfd;\n",
       "  --sklearn-color-fitted-level-3: cornflowerblue;\n",
       "\n",
       "  /* Specific color for light theme */\n",
       "  --sklearn-color-text-on-default-background: var(--sg-text-color, var(--theme-code-foreground, var(--jp-content-font-color1, black)));\n",
       "  --sklearn-color-background: var(--sg-background-color, var(--theme-background, var(--jp-layout-color0, white)));\n",
       "  --sklearn-color-border-box: var(--sg-text-color, var(--theme-code-foreground, var(--jp-content-font-color1, black)));\n",
       "  --sklearn-color-icon: #696969;\n",
       "\n",
       "  @media (prefers-color-scheme: dark) {\n",
       "    /* Redefinition of color scheme for dark theme */\n",
       "    --sklearn-color-text-on-default-background: var(--sg-text-color, var(--theme-code-foreground, var(--jp-content-font-color1, white)));\n",
       "    --sklearn-color-background: var(--sg-background-color, var(--theme-background, var(--jp-layout-color0, #111)));\n",
       "    --sklearn-color-border-box: var(--sg-text-color, var(--theme-code-foreground, var(--jp-content-font-color1, white)));\n",
       "    --sklearn-color-icon: #878787;\n",
       "  }\n",
       "}\n",
       "\n",
       "#sk-container-id-1 {\n",
       "  color: var(--sklearn-color-text);\n",
       "}\n",
       "\n",
       "#sk-container-id-1 pre {\n",
       "  padding: 0;\n",
       "}\n",
       "\n",
       "#sk-container-id-1 input.sk-hidden--visually {\n",
       "  border: 0;\n",
       "  clip: rect(1px 1px 1px 1px);\n",
       "  clip: rect(1px, 1px, 1px, 1px);\n",
       "  height: 1px;\n",
       "  margin: -1px;\n",
       "  overflow: hidden;\n",
       "  padding: 0;\n",
       "  position: absolute;\n",
       "  width: 1px;\n",
       "}\n",
       "\n",
       "#sk-container-id-1 div.sk-dashed-wrapped {\n",
       "  border: 1px dashed var(--sklearn-color-line);\n",
       "  margin: 0 0.4em 0.5em 0.4em;\n",
       "  box-sizing: border-box;\n",
       "  padding-bottom: 0.4em;\n",
       "  background-color: var(--sklearn-color-background);\n",
       "}\n",
       "\n",
       "#sk-container-id-1 div.sk-container {\n",
       "  /* jupyter's `normalize.less` sets `[hidden] { display: none; }`\n",
       "     but bootstrap.min.css set `[hidden] { display: none !important; }`\n",
       "     so we also need the `!important` here to be able to override the\n",
       "     default hidden behavior on the sphinx rendered scikit-learn.org.\n",
       "     See: https://github.com/scikit-learn/scikit-learn/issues/21755 */\n",
       "  display: inline-block !important;\n",
       "  position: relative;\n",
       "}\n",
       "\n",
       "#sk-container-id-1 div.sk-text-repr-fallback {\n",
       "  display: none;\n",
       "}\n",
       "\n",
       "div.sk-parallel-item,\n",
       "div.sk-serial,\n",
       "div.sk-item {\n",
       "  /* draw centered vertical line to link estimators */\n",
       "  background-image: linear-gradient(var(--sklearn-color-text-on-default-background), var(--sklearn-color-text-on-default-background));\n",
       "  background-size: 2px 100%;\n",
       "  background-repeat: no-repeat;\n",
       "  background-position: center center;\n",
       "}\n",
       "\n",
       "/* Parallel-specific style estimator block */\n",
       "\n",
       "#sk-container-id-1 div.sk-parallel-item::after {\n",
       "  content: \"\";\n",
       "  width: 100%;\n",
       "  border-bottom: 2px solid var(--sklearn-color-text-on-default-background);\n",
       "  flex-grow: 1;\n",
       "}\n",
       "\n",
       "#sk-container-id-1 div.sk-parallel {\n",
       "  display: flex;\n",
       "  align-items: stretch;\n",
       "  justify-content: center;\n",
       "  background-color: var(--sklearn-color-background);\n",
       "  position: relative;\n",
       "}\n",
       "\n",
       "#sk-container-id-1 div.sk-parallel-item {\n",
       "  display: flex;\n",
       "  flex-direction: column;\n",
       "}\n",
       "\n",
       "#sk-container-id-1 div.sk-parallel-item:first-child::after {\n",
       "  align-self: flex-end;\n",
       "  width: 50%;\n",
       "}\n",
       "\n",
       "#sk-container-id-1 div.sk-parallel-item:last-child::after {\n",
       "  align-self: flex-start;\n",
       "  width: 50%;\n",
       "}\n",
       "\n",
       "#sk-container-id-1 div.sk-parallel-item:only-child::after {\n",
       "  width: 0;\n",
       "}\n",
       "\n",
       "/* Serial-specific style estimator block */\n",
       "\n",
       "#sk-container-id-1 div.sk-serial {\n",
       "  display: flex;\n",
       "  flex-direction: column;\n",
       "  align-items: center;\n",
       "  background-color: var(--sklearn-color-background);\n",
       "  padding-right: 1em;\n",
       "  padding-left: 1em;\n",
       "}\n",
       "\n",
       "\n",
       "/* Toggleable style: style used for estimator/Pipeline/ColumnTransformer box that is\n",
       "clickable and can be expanded/collapsed.\n",
       "- Pipeline and ColumnTransformer use this feature and define the default style\n",
       "- Estimators will overwrite some part of the style using the `sk-estimator` class\n",
       "*/\n",
       "\n",
       "/* Pipeline and ColumnTransformer style (default) */\n",
       "\n",
       "#sk-container-id-1 div.sk-toggleable {\n",
       "  /* Default theme specific background. It is overwritten whether we have a\n",
       "  specific estimator or a Pipeline/ColumnTransformer */\n",
       "  background-color: var(--sklearn-color-background);\n",
       "}\n",
       "\n",
       "/* Toggleable label */\n",
       "#sk-container-id-1 label.sk-toggleable__label {\n",
       "  cursor: pointer;\n",
       "  display: flex;\n",
       "  width: 100%;\n",
       "  margin-bottom: 0;\n",
       "  padding: 0.5em;\n",
       "  box-sizing: border-box;\n",
       "  text-align: center;\n",
       "  align-items: start;\n",
       "  justify-content: space-between;\n",
       "  gap: 0.5em;\n",
       "}\n",
       "\n",
       "#sk-container-id-1 label.sk-toggleable__label .caption {\n",
       "  font-size: 0.6rem;\n",
       "  font-weight: lighter;\n",
       "  color: var(--sklearn-color-text-muted);\n",
       "}\n",
       "\n",
       "#sk-container-id-1 label.sk-toggleable__label-arrow:before {\n",
       "  /* Arrow on the left of the label */\n",
       "  content: \"▸\";\n",
       "  float: left;\n",
       "  margin-right: 0.25em;\n",
       "  color: var(--sklearn-color-icon);\n",
       "}\n",
       "\n",
       "#sk-container-id-1 label.sk-toggleable__label-arrow:hover:before {\n",
       "  color: var(--sklearn-color-text);\n",
       "}\n",
       "\n",
       "/* Toggleable content - dropdown */\n",
       "\n",
       "#sk-container-id-1 div.sk-toggleable__content {\n",
       "  max-height: 0;\n",
       "  max-width: 0;\n",
       "  overflow: hidden;\n",
       "  text-align: left;\n",
       "  /* unfitted */\n",
       "  background-color: var(--sklearn-color-unfitted-level-0);\n",
       "}\n",
       "\n",
       "#sk-container-id-1 div.sk-toggleable__content.fitted {\n",
       "  /* fitted */\n",
       "  background-color: var(--sklearn-color-fitted-level-0);\n",
       "}\n",
       "\n",
       "#sk-container-id-1 div.sk-toggleable__content pre {\n",
       "  margin: 0.2em;\n",
       "  border-radius: 0.25em;\n",
       "  color: var(--sklearn-color-text);\n",
       "  /* unfitted */\n",
       "  background-color: var(--sklearn-color-unfitted-level-0);\n",
       "}\n",
       "\n",
       "#sk-container-id-1 div.sk-toggleable__content.fitted pre {\n",
       "  /* unfitted */\n",
       "  background-color: var(--sklearn-color-fitted-level-0);\n",
       "}\n",
       "\n",
       "#sk-container-id-1 input.sk-toggleable__control:checked~div.sk-toggleable__content {\n",
       "  /* Expand drop-down */\n",
       "  max-height: 200px;\n",
       "  max-width: 100%;\n",
       "  overflow: auto;\n",
       "}\n",
       "\n",
       "#sk-container-id-1 input.sk-toggleable__control:checked~label.sk-toggleable__label-arrow:before {\n",
       "  content: \"▾\";\n",
       "}\n",
       "\n",
       "/* Pipeline/ColumnTransformer-specific style */\n",
       "\n",
       "#sk-container-id-1 div.sk-label input.sk-toggleable__control:checked~label.sk-toggleable__label {\n",
       "  color: var(--sklearn-color-text);\n",
       "  background-color: var(--sklearn-color-unfitted-level-2);\n",
       "}\n",
       "\n",
       "#sk-container-id-1 div.sk-label.fitted input.sk-toggleable__control:checked~label.sk-toggleable__label {\n",
       "  background-color: var(--sklearn-color-fitted-level-2);\n",
       "}\n",
       "\n",
       "/* Estimator-specific style */\n",
       "\n",
       "/* Colorize estimator box */\n",
       "#sk-container-id-1 div.sk-estimator input.sk-toggleable__control:checked~label.sk-toggleable__label {\n",
       "  /* unfitted */\n",
       "  background-color: var(--sklearn-color-unfitted-level-2);\n",
       "}\n",
       "\n",
       "#sk-container-id-1 div.sk-estimator.fitted input.sk-toggleable__control:checked~label.sk-toggleable__label {\n",
       "  /* fitted */\n",
       "  background-color: var(--sklearn-color-fitted-level-2);\n",
       "}\n",
       "\n",
       "#sk-container-id-1 div.sk-label label.sk-toggleable__label,\n",
       "#sk-container-id-1 div.sk-label label {\n",
       "  /* The background is the default theme color */\n",
       "  color: var(--sklearn-color-text-on-default-background);\n",
       "}\n",
       "\n",
       "/* On hover, darken the color of the background */\n",
       "#sk-container-id-1 div.sk-label:hover label.sk-toggleable__label {\n",
       "  color: var(--sklearn-color-text);\n",
       "  background-color: var(--sklearn-color-unfitted-level-2);\n",
       "}\n",
       "\n",
       "/* Label box, darken color on hover, fitted */\n",
       "#sk-container-id-1 div.sk-label.fitted:hover label.sk-toggleable__label.fitted {\n",
       "  color: var(--sklearn-color-text);\n",
       "  background-color: var(--sklearn-color-fitted-level-2);\n",
       "}\n",
       "\n",
       "/* Estimator label */\n",
       "\n",
       "#sk-container-id-1 div.sk-label label {\n",
       "  font-family: monospace;\n",
       "  font-weight: bold;\n",
       "  display: inline-block;\n",
       "  line-height: 1.2em;\n",
       "}\n",
       "\n",
       "#sk-container-id-1 div.sk-label-container {\n",
       "  text-align: center;\n",
       "}\n",
       "\n",
       "/* Estimator-specific */\n",
       "#sk-container-id-1 div.sk-estimator {\n",
       "  font-family: monospace;\n",
       "  border: 1px dotted var(--sklearn-color-border-box);\n",
       "  border-radius: 0.25em;\n",
       "  box-sizing: border-box;\n",
       "  margin-bottom: 0.5em;\n",
       "  /* unfitted */\n",
       "  background-color: var(--sklearn-color-unfitted-level-0);\n",
       "}\n",
       "\n",
       "#sk-container-id-1 div.sk-estimator.fitted {\n",
       "  /* fitted */\n",
       "  background-color: var(--sklearn-color-fitted-level-0);\n",
       "}\n",
       "\n",
       "/* on hover */\n",
       "#sk-container-id-1 div.sk-estimator:hover {\n",
       "  /* unfitted */\n",
       "  background-color: var(--sklearn-color-unfitted-level-2);\n",
       "}\n",
       "\n",
       "#sk-container-id-1 div.sk-estimator.fitted:hover {\n",
       "  /* fitted */\n",
       "  background-color: var(--sklearn-color-fitted-level-2);\n",
       "}\n",
       "\n",
       "/* Specification for estimator info (e.g. \"i\" and \"?\") */\n",
       "\n",
       "/* Common style for \"i\" and \"?\" */\n",
       "\n",
       ".sk-estimator-doc-link,\n",
       "a:link.sk-estimator-doc-link,\n",
       "a:visited.sk-estimator-doc-link {\n",
       "  float: right;\n",
       "  font-size: smaller;\n",
       "  line-height: 1em;\n",
       "  font-family: monospace;\n",
       "  background-color: var(--sklearn-color-background);\n",
       "  border-radius: 1em;\n",
       "  height: 1em;\n",
       "  width: 1em;\n",
       "  text-decoration: none !important;\n",
       "  margin-left: 0.5em;\n",
       "  text-align: center;\n",
       "  /* unfitted */\n",
       "  border: var(--sklearn-color-unfitted-level-1) 1pt solid;\n",
       "  color: var(--sklearn-color-unfitted-level-1);\n",
       "}\n",
       "\n",
       ".sk-estimator-doc-link.fitted,\n",
       "a:link.sk-estimator-doc-link.fitted,\n",
       "a:visited.sk-estimator-doc-link.fitted {\n",
       "  /* fitted */\n",
       "  border: var(--sklearn-color-fitted-level-1) 1pt solid;\n",
       "  color: var(--sklearn-color-fitted-level-1);\n",
       "}\n",
       "\n",
       "/* On hover */\n",
       "div.sk-estimator:hover .sk-estimator-doc-link:hover,\n",
       ".sk-estimator-doc-link:hover,\n",
       "div.sk-label-container:hover .sk-estimator-doc-link:hover,\n",
       ".sk-estimator-doc-link:hover {\n",
       "  /* unfitted */\n",
       "  background-color: var(--sklearn-color-unfitted-level-3);\n",
       "  color: var(--sklearn-color-background);\n",
       "  text-decoration: none;\n",
       "}\n",
       "\n",
       "div.sk-estimator.fitted:hover .sk-estimator-doc-link.fitted:hover,\n",
       ".sk-estimator-doc-link.fitted:hover,\n",
       "div.sk-label-container:hover .sk-estimator-doc-link.fitted:hover,\n",
       ".sk-estimator-doc-link.fitted:hover {\n",
       "  /* fitted */\n",
       "  background-color: var(--sklearn-color-fitted-level-3);\n",
       "  color: var(--sklearn-color-background);\n",
       "  text-decoration: none;\n",
       "}\n",
       "\n",
       "/* Span, style for the box shown on hovering the info icon */\n",
       ".sk-estimator-doc-link span {\n",
       "  display: none;\n",
       "  z-index: 9999;\n",
       "  position: relative;\n",
       "  font-weight: normal;\n",
       "  right: .2ex;\n",
       "  padding: .5ex;\n",
       "  margin: .5ex;\n",
       "  width: min-content;\n",
       "  min-width: 20ex;\n",
       "  max-width: 50ex;\n",
       "  color: var(--sklearn-color-text);\n",
       "  box-shadow: 2pt 2pt 4pt #999;\n",
       "  /* unfitted */\n",
       "  background: var(--sklearn-color-unfitted-level-0);\n",
       "  border: .5pt solid var(--sklearn-color-unfitted-level-3);\n",
       "}\n",
       "\n",
       ".sk-estimator-doc-link.fitted span {\n",
       "  /* fitted */\n",
       "  background: var(--sklearn-color-fitted-level-0);\n",
       "  border: var(--sklearn-color-fitted-level-3);\n",
       "}\n",
       "\n",
       ".sk-estimator-doc-link:hover span {\n",
       "  display: block;\n",
       "}\n",
       "\n",
       "/* \"?\"-specific style due to the `<a>` HTML tag */\n",
       "\n",
       "#sk-container-id-1 a.estimator_doc_link {\n",
       "  float: right;\n",
       "  font-size: 1rem;\n",
       "  line-height: 1em;\n",
       "  font-family: monospace;\n",
       "  background-color: var(--sklearn-color-background);\n",
       "  border-radius: 1rem;\n",
       "  height: 1rem;\n",
       "  width: 1rem;\n",
       "  text-decoration: none;\n",
       "  /* unfitted */\n",
       "  color: var(--sklearn-color-unfitted-level-1);\n",
       "  border: var(--sklearn-color-unfitted-level-1) 1pt solid;\n",
       "}\n",
       "\n",
       "#sk-container-id-1 a.estimator_doc_link.fitted {\n",
       "  /* fitted */\n",
       "  border: var(--sklearn-color-fitted-level-1) 1pt solid;\n",
       "  color: var(--sklearn-color-fitted-level-1);\n",
       "}\n",
       "\n",
       "/* On hover */\n",
       "#sk-container-id-1 a.estimator_doc_link:hover {\n",
       "  /* unfitted */\n",
       "  background-color: var(--sklearn-color-unfitted-level-3);\n",
       "  color: var(--sklearn-color-background);\n",
       "  text-decoration: none;\n",
       "}\n",
       "\n",
       "#sk-container-id-1 a.estimator_doc_link.fitted:hover {\n",
       "  /* fitted */\n",
       "  background-color: var(--sklearn-color-fitted-level-3);\n",
       "}\n",
       "</style><div id=\"sk-container-id-1\" class=\"sk-top-container\"><div class=\"sk-text-repr-fallback\"><pre>SGDClassifier(random_state=42)</pre><b>In a Jupyter environment, please rerun this cell to show the HTML representation or trust the notebook. <br />On GitHub, the HTML representation is unable to render, please try loading this page with nbviewer.org.</b></div><div class=\"sk-container\" hidden><div class=\"sk-item\"><div class=\"sk-estimator fitted sk-toggleable\"><input class=\"sk-toggleable__control sk-hidden--visually\" id=\"sk-estimator-id-1\" type=\"checkbox\" checked><label for=\"sk-estimator-id-1\" class=\"sk-toggleable__label fitted sk-toggleable__label-arrow\"><div><div>SGDClassifier</div></div><div><a class=\"sk-estimator-doc-link fitted\" rel=\"noreferrer\" target=\"_blank\" href=\"https://scikit-learn.org/1.6/modules/generated/sklearn.linear_model.SGDClassifier.html\">?<span>Documentation for SGDClassifier</span></a><span class=\"sk-estimator-doc-link fitted\">i<span>Fitted</span></span></div></label><div class=\"sk-toggleable__content fitted\"><pre>SGDClassifier(random_state=42)</pre></div> </div></div></div></div>"
      ],
      "text/plain": [
       "SGDClassifier(random_state=42)"
      ]
     },
     "execution_count": 4,
     "metadata": {},
     "output_type": "execute_result"
    }
   ],
   "source": [
    "from sklearn.linear_model import SGDClassifier\n",
    "\n",
    "sgd_clf = SGDClassifier(loss='hinge', random_state=42)\n",
    "sgd_clf.fit(X_train_scaled, y_train)\n"
   ]
  },
  {
   "cell_type": "markdown",
   "id": "a1549713-7e66-4f83-a771-e7e4add9cbcd",
   "metadata": {},
   "source": [
    "## Evaluation"
   ]
  },
  {
   "cell_type": "markdown",
   "id": "59186cd7-87e9-4bd4-8abf-11436b3f9e8e",
   "metadata": {},
   "source": [
    "Predictions are made on the scaled test data.\n",
    "\n",
    "classification_report() shows precision, recall, f1-score for each class.\n",
    "\n",
    "confusion_matrix() shows a matrix comparing actual vs predicted values for all classes.\n",
    "\n"
   ]
  },
  {
   "cell_type": "code",
   "execution_count": 5,
   "id": "bb1a054c-58e6-4c10-938b-dde1cd6055c8",
   "metadata": {},
   "outputs": [
    {
     "name": "stdout",
     "output_type": "stream",
     "text": [
      "SGDClassifier:\n",
      "              precision    recall  f1-score   support\n",
      "\n",
      "           0       0.96      0.96      0.96       980\n",
      "           1       0.98      0.95      0.97      1135\n",
      "           2       0.94      0.86      0.90      1032\n",
      "           3       0.92      0.87      0.89      1010\n",
      "           4       0.94      0.89      0.92       982\n",
      "           5       0.91      0.80      0.85       892\n",
      "           6       0.94      0.92      0.93       958\n",
      "           7       0.95      0.90      0.92      1028\n",
      "           8       0.61      0.93      0.73       974\n",
      "           9       0.93      0.84      0.88      1009\n",
      "\n",
      "    accuracy                           0.89     10000\n",
      "   macro avg       0.91      0.89      0.90     10000\n",
      "weighted avg       0.91      0.89      0.90     10000\n",
      "\n",
      "[[ 937    0    0    0    0    3    4    1   35    0]\n",
      " [   0 1083    5    1    0    3    4    0   39    0]\n",
      " [   4    3  890   14    7    2   13    6   89    4]\n",
      " [   4    0   13  874    0   20    2    7   82    8]\n",
      " [   1    0    6    0  877    1    6    4   66   21]\n",
      " [   5    2    1   31    8  716   17    7   98    7]\n",
      " [  10    2   10    0    8   13  881    1   33    0]\n",
      " [   2    2   16    5    5    1    0  924   49   24]\n",
      " [   6    4    4   15    3   24    8    1  905    4]\n",
      " [   5    5    0    6   24    4    0   21   98  846]]\n"
     ]
    }
   ],
   "source": [
    "from sklearn.metrics import classification_report, confusion_matrix\n",
    "\n",
    "y_pred_sgd = sgd_clf.predict(X_test_scaled)\n",
    "print(\"SGDClassifier:\")\n",
    "print(classification_report(y_test, y_pred_sgd))\n",
    "print(confusion_matrix(y_test, y_pred_sgd))\n"
   ]
  },
  {
   "cell_type": "markdown",
   "id": "8f68447d-e35d-48a7-9dfc-c975199d077f",
   "metadata": {},
   "source": [
    "## Random Forest Classifier"
   ]
  },
  {
   "cell_type": "markdown",
   "id": "2c7c5ac7-2fd1-48a2-b4e5-80d933d6b4e5",
   "metadata": {},
   "source": [
    "Random Forest is an ensemble method that combines multiple decision trees.\n",
    "\n",
    "n_estimators=100 means 100 trees are used in the ensemble.\n",
    "\n",
    "Scaling is not needed for Random Forest because it handles raw pixel values well.\n",
    "\n",
    "Predictions are made on the unscaled test data.\n",
    "\n",
    "The evaluation metrics are displayed similarly as for SGDClassifier.\n",
    "\n"
   ]
  },
  {
   "cell_type": "code",
   "execution_count": 6,
   "id": "b4514d31-7489-486f-bda2-983ea93d0eed",
   "metadata": {},
   "outputs": [
    {
     "name": "stdout",
     "output_type": "stream",
     "text": [
      "RandomForestClassifier:\n",
      "              precision    recall  f1-score   support\n",
      "\n",
      "           0       0.97      0.99      0.98       980\n",
      "           1       0.99      0.99      0.99      1135\n",
      "           2       0.96      0.97      0.97      1032\n",
      "           3       0.96      0.96      0.96      1010\n",
      "           4       0.97      0.97      0.97       982\n",
      "           5       0.98      0.96      0.97       892\n",
      "           6       0.98      0.98      0.98       958\n",
      "           7       0.97      0.96      0.97      1028\n",
      "           8       0.96      0.95      0.96       974\n",
      "           9       0.96      0.95      0.96      1009\n",
      "\n",
      "    accuracy                           0.97     10000\n",
      "   macro avg       0.97      0.97      0.97     10000\n",
      "weighted avg       0.97      0.97      0.97     10000\n",
      "\n",
      "[[ 971    0    0    0    0    2    3    1    3    0]\n",
      " [   0 1127    2    2    0    1    2    0    1    0]\n",
      " [   6    0 1002    5    3    0    3    8    5    0]\n",
      " [   1    0    9  972    0    9    0    9    8    2]\n",
      " [   1    0    0    0  955    0    5    1    4   16]\n",
      " [   5    1    1    9    2  860    5    2    5    2]\n",
      " [   7    3    0    0    3    3  937    0    5    0]\n",
      " [   1    4   20    2    0    0    0  990    2    9]\n",
      " [   4    0    6    7    5    5    5    4  930    8]\n",
      " [   7    6    2   12   12    1    0    4    4  961]]\n"
     ]
    }
   ],
   "source": [
    "from sklearn.ensemble import RandomForestClassifier\n",
    "\n",
    "rf_clf = RandomForestClassifier(n_estimators=100, random_state=42)\n",
    "rf_clf.fit(X_train, y_train)\n",
    "\n",
    "y_pred_rf = rf_clf.predict(X_test)\n",
    "print(\"RandomForestClassifier:\")\n",
    "print(classification_report(y_test, y_pred_rf))\n",
    "print(confusion_matrix(y_test, y_pred_rf))"
   ]
  },
  {
   "cell_type": "markdown",
   "id": "157d758f-4972-479a-a185-d424498f2310",
   "metadata": {},
   "source": [
    "## Visualizing Confusion Matrix for Random Forest"
   ]
  },
  {
   "cell_type": "markdown",
   "id": "915013f5-1d81-4bdf-b7cd-1962154eac6f",
   "metadata": {},
   "source": [
    "The confusion matrix for Random Forest is visualized using seaborn.heatmap() for better readability.\n",
    "\n",
    "The heatmap helps easily identify which digits are most commonly confused.\n",
    "\n"
   ]
  },
  {
   "cell_type": "code",
   "execution_count": 7,
   "id": "c2a5786d-4067-48b2-9d7e-55e15b8ee632",
   "metadata": {},
   "outputs": [
    {
     "data": {
      "image/png": "[encoded data removed]",
      "text/plain": [
       "<Figure size 1000x700 with 2 Axes>"
      ]
     },
     "metadata": {},
     "output_type": "display_data"
    }
   ],
   "source": [
    "import seaborn as sns\n",
    "import matplotlib.pyplot as plt\n",
    "\n",
    "cm_rf = confusion_matrix(y_test, y_pred_rf)\n",
    "plt.figure(figsize=(10,7))\n",
    "sns.heatmap(cm_rf, annot=True, fmt=\"d\", cmap=\"Blues\")\n",
    "plt.title(\"Random Forest Confusion Matrix\")\n",
    "plt.show()"
   ]
  },
  {
   "cell_type": "markdown",
   "id": "76a17649-1211-449f-a276-131983d44443",
   "metadata": {},
   "source": [
    "## Visualizing Worst Misclassifications (SGD)"
   ]
  },
  {
   "cell_type": "markdown",
   "id": "46b83804-b815-4178-8c47-bb7269d324cf",
   "metadata": {},
   "source": [
    "This block visualizes some of the most significant misclassified digits from the SGD Classifier.\n",
    "\n",
    "Each subplot shows the misclassified image along with its true and predicted label.\n",
    "\n",
    "Helps with error analysis by visually identifying confusing cases.\n",
    "\n"
   ]
  },
  {
   "cell_type": "code",
   "execution_count": 8,
   "id": "c56b5fba-8a09-4621-b09d-7ac49573683d",
   "metadata": {},
   "outputs": [],
   "source": [
    "import numpy as np\n",
    "\n",
    "errors = (y_pred_sgd != y_test)\n",
    "X_errors = X_test[errors]\n",
    "y_pred_errors = y_pred_sgd[errors]\n",
    "y_test_errors = y_test[errors]\n"
   ]
  },
  {
   "cell_type": "markdown",
   "id": "2583569c-5276-4f82-8138-63188a27c972",
   "metadata": {},
   "source": [
    "## Some worst errors visually"
   ]
  },
  {
   "cell_type": "code",
   "execution_count": 9,
   "id": "06689994-cee8-4283-896b-d21dafbe800d",
   "metadata": {},
   "outputs": [
    {
     "data": {
      "image/png": "[encoded data removed]",
      "text/plain": [
       "<Figure size 1200x800 with 15 Axes>"
      ]
     },
     "metadata": {},
     "output_type": "display_data"
    }
   ],
   "source": [
    "fig, axes = plt.subplots(3, 5, figsize=(12, 8))\n",
    "for i, ax in enumerate(axes.flat):\n",
    "    if i >= len(X_errors):\n",
    "        break\n",
    "    img = X_errors[i].reshape(28,28)\n",
    "    ax.imshow(img, cmap='binary')\n",
    "    ax.set_title(f\"True: {y_test_errors[i]} | Pred: {y_pred_errors[i]}\")\n",
    "    ax.axis('off')\n",
    "plt.tight_layout()\n",
    "plt.show()\n"
   ]
  },
  {
   "cell_type": "markdown",
   "id": "2c0aa83f-61cf-4d53-af34-a7574a6495cb",
   "metadata": {},
   "source": [
    "## Error Analysis"
   ]
  },
  {
   "cell_type": "markdown",
   "id": "f4dfa220-5e74-4f86-b464-ec201e7bb293",
   "metadata": {},
   "source": [
    "| Classifier | Accuracy | Macro Avg F1 | Notes |\n",
    "| --- | --- | --- | --- | \n",
    "| SGD Classifier | 89% | 0.90 | Needs Improvement | \n",
    "| Random Forest | 97% | 0.97 | Meets internship target | "
   ]
  },
  {
   "cell_type": "markdown",
   "id": "781323d9-a182-4aa0-accc-ad760231c729",
   "metadata": {},
   "source": [
    "## Error Patterns "
   ]
  },
  {
   "cell_type": "markdown",
   "id": "db00dc1d-86ff-467b-b45b-26ca5fe079e5",
   "metadata": {},
   "source": [
    "### For SGD Classifier"
   ]
  },
  {
   "cell_type": "markdown",
   "id": "e8ba1a4d-a5fe-4ff0-ad80-26c00d3d1b12",
   "metadata": {},
   "source": [
    "Common misclassifications identified via confusion matrix:"
   ]
  },
  {
   "cell_type": "markdown",
   "id": "5073ffcd-0d1f-4898-8738-d6e0bd9a081a",
   "metadata": {},
   "source": [
    "| True Class | Predicted As | Misclassification Count |\n",
    "| --- | --- | --- | \n",
    "| 8 --> 9 | 24 times | Confused between 8 and 9 | \n",
    "| 5 --> 3 | 31 times | Often mistakes 5 for 3 |  \n",
    "| 9 --> 4 | 35 times | Frequently misclassifies 9 as 4 | "
   ]
  },
  {
   "cell_type": "markdown",
   "id": "607042e5-176a-4d38-94b7-65f370e1bbfb",
   "metadata": {},
   "source": [
    "Class 8 has lowest precision and recall (precision=0.61, recall=0.93)\n",
    "\n",
    "Class 5 also shows significant confusion (recall=0.80)."
   ]
  },
  {
   "cell_type": "markdown",
   "id": "dc9caefb-d716-4648-b4b7-bd5c94956fa4",
   "metadata": {},
   "source": [
    "### For Random Forest Classifer"
   ]
  },
  {
   "cell_type": "markdown",
   "id": "e7022ccd-8c3e-442f-8ad7-1f448f66537b",
   "metadata": {},
   "source": [
    "Much better overall but still some minor confusion:"
   ]
  },
  {
   "cell_type": "markdown",
   "id": "719a0044-fe14-4e83-936d-82185dbca653",
   "metadata": {},
   "source": [
    "| True Class | Predicted As | Misclassification Count |\n",
    "| --- | --- | --- | \n",
    "| 9 --> 4 | 12 times | Still Common | \n",
    "| 8 --> 9 | 8 times | Small but present |  \n",
    "| 5 --> 3 | 9 times | Rare but exists | "
   ]
  },
  {
   "cell_type": "markdown",
   "id": "943aeb2a-dbd9-4ddb-bb2f-4739b8862089",
   "metadata": {},
   "source": [
    "Random Forest still struggles slightly on visually similar digits:\n",
    "\n",
    "Curved digits like 8, 9\n",
    "\n",
    "Open vs closed loops (5 vs 3)\n",
    "\n",
    "Partial writing errors (9 vs 4)\n",
    "\n"
   ]
  },
  {
   "cell_type": "markdown",
   "id": "717fd13b-5778-48a1-9893-a023b857c3b7",
   "metadata": {},
   "source": [
    "## Error Causes\n",
    "\n",
    "Poor handwriting (messy digits)\n",
    "\n",
    "Visual similarity (loops, incomplete strokes)\n",
    "\n",
    "Lack of contextual information (single isolated digit)\n",
    "\n"
   ]
  },
  {
   "cell_type": "markdown",
   "id": "c8620d4d-7692-4b99-981c-5f98a11f52ae",
   "metadata": {},
   "source": [
    "## Proposed Solutions"
   ]
  },
  {
   "cell_type": "markdown",
   "id": "719c3b7d-e2a7-4e5a-95ff-98040fe03729",
   "metadata": {},
   "source": [
    "| Error Cause | Solution |\n",
    "| --- | --- | \n",
    "| Low Recall for class 8 | Data augmentation (shift, rotate) | \n",
    "| 5 vs 3 confusion | Image denoising, normalization |  \n",
    "| 9 vs 4 confusion | Model complexity increase (CNN) | "
   ]
  },
  {
   "cell_type": "markdown",
   "id": "eca0fd39-798f-441a-bf6f-4313523dc783",
   "metadata": {},
   "source": [
    "## Implementing Improvement"
   ]
  },
  {
   "cell_type": "markdown",
   "id": "d7ebf18b-ba91-48d8-9f09-68a6e84411cd",
   "metadata": {},
   "source": [
    "**Data Augmentation** \n",
    "\n",
    "Applied image shifting (one type of augmentation).\n",
    "\n",
    "Helps classifier become more robust to variations in writing.\n",
    "\n",
    "**Scaling Input Features** (done for SGDClassifier)\n",
    "\n",
    "Very important for linear models like SGD.\n",
    "\n",
    "After augmentation & scaling, Random Forest achieved stable 97% accuracy.\n",
    "\n"
   ]
  },
  {
   "cell_type": "markdown",
   "id": "d167678a-e094-40cc-8deb-913dadb2e975",
   "metadata": {},
   "source": [
    "## Data Augmentation (Shifting)"
   ]
  },
  {
   "cell_type": "markdown",
   "id": "643ef13e-288b-43a5-83e0-970108d6a5b6",
   "metadata": {},
   "source": [
    "Data augmentation helps improve model robustness by artificially increasing training data.\n",
    "\n",
    "The function shift_image() shifts images slightly to simulate variations in writing.\n",
    "\n",
    "In this example, images are shifted right by 1 pixel.\n",
    "\n",
    "The augmented dataset combines original and shifted images.\n",
    "\n",
    "Random Forest is retrained on the larger augmented dataset.\n",
    "\n",
    "Accuracy often improves slightly as the model is exposed to more variations in the data."
   ]
  },
  {
   "cell_type": "code",
   "execution_count": 10,
   "id": "6aa3c2b4-f1bc-4de0-8613-82d085cfdb6b",
   "metadata": {},
   "outputs": [
    {
     "name": "stdout",
     "output_type": "stream",
     "text": [
      "RandomForestClassifier after augmentation:\n",
      "              precision    recall  f1-score   support\n",
      "\n",
      "           0       0.98      0.99      0.98       980\n",
      "           1       0.99      0.99      0.99      1135\n",
      "           2       0.97      0.97      0.97      1032\n",
      "           3       0.96      0.97      0.96      1010\n",
      "           4       0.97      0.98      0.98       982\n",
      "           5       0.97      0.97      0.97       892\n",
      "           6       0.98      0.98      0.98       958\n",
      "           7       0.98      0.96      0.97      1028\n",
      "           8       0.96      0.96      0.96       974\n",
      "           9       0.96      0.95      0.96      1009\n",
      "\n",
      "    accuracy                           0.97     10000\n",
      "   macro avg       0.97      0.97      0.97     10000\n",
      "weighted avg       0.97      0.97      0.97     10000\n",
      "\n",
      "[[ 973    0    1    0    0    1    2    1    1    1]\n",
      " [   0 1126    2    1    0    2    3    0    1    0]\n",
      " [   4    0 1005    5    3    0    2    7    6    0]\n",
      " [   0    0    8  975    0    8    0    7    9    3]\n",
      " [   0    0    1    0  958    0    5    0    2   16]\n",
      " [   2    0    0    7    3  868    4    1    3    4]\n",
      " [   8    2    0    0    2    4  938    0    4    0]\n",
      " [   1    4   18    2    3    0    0  987    2   11]\n",
      " [   5    0    4   10    5    6    2    2  936    4]\n",
      " [   4    4    2   11    9    3    1    4    8  963]]\n"
     ]
    }
   ],
   "source": [
    "from scipy.ndimage import shift\n",
    "\n",
    "def shift_image(image, dx, dy):\n",
    "    image = image.reshape(28, 28)\n",
    "    shifted = shift(image, [dy, dx], cval=0, mode='constant')\n",
    "    return shifted.reshape(784)\n",
    "\n",
    "# Apply shifts (simple example: shift right by 1 pixel)\n",
    "shifted_images = np.apply_along_axis(shift_image, 1, X_train, 1, 0)\n",
    "\n",
    "# Combine original and shifted\n",
    "X_train_augmented = np.concatenate((X_train, shifted_images))\n",
    "y_train_augmented = np.concatenate((y_train, y_train))\n",
    "\n",
    "# Retrain RandomForest on augmented data\n",
    "rf_clf_aug = RandomForestClassifier(n_estimators=100, random_state=42)\n",
    "rf_clf_aug.fit(X_train_augmented, y_train_augmented)\n",
    "\n",
    "y_pred_rf_aug = rf_clf_aug.predict(X_test)\n",
    "print(\"RandomForestClassifier after augmentation:\")\n",
    "print(classification_report(y_test, y_pred_rf_aug))\n",
    "print(confusion_matrix(y_test, y_pred_rf_aug))"
   ]
  },
  {
   "cell_type": "markdown",
   "id": "93e5cbed-c922-4610-97fa-e5ed24877688",
   "metadata": {},
   "source": [
    "## Training/Validation Curves"
   ]
  },
  {
   "cell_type": "code",
   "execution_count": 12,
   "id": "9704eea0-753f-4b07-b470-b3aec0eb6cde",
   "metadata": {},
   "outputs": [
    {
     "data": {
      "image/png": "[encoded data removed]",
      "text/plain": [
       "<Figure size 800x600 with 1 Axes>"
      ]
     },
     "metadata": {},
     "output_type": "display_data"
    }
   ],
   "source": [
    "from sklearn.model_selection import validation_curve\n",
    "import matplotlib.pyplot as plt\n",
    "import numpy as np\n",
    "\n",
    "param_range = [10, 30, 50, 70, 100]\n",
    "\n",
    "train_scores, val_scores = validation_curve(\n",
    "    RandomForestClassifier(random_state=42),\n",
    "    X_train, y_train,\n",
    "    param_name=\"n_estimators\",\n",
    "    param_range=param_range,\n",
    "    cv=3,\n",
    "    scoring=\"accuracy\",\n",
    "    n_jobs=-1\n",
    ")\n",
    "\n",
    "train_mean = np.mean(train_scores, axis=1)\n",
    "val_mean = np.mean(val_scores, axis=1)\n",
    "\n",
    "plt.figure(figsize=(8, 6))\n",
    "plt.plot(param_range, train_mean, label=\"Training Score\", marker='o')\n",
    "plt.plot(param_range, val_mean, label=\"Validation Score\", marker='o')\n",
    "plt.title(\"Validation Curve for Random Forest (n_estimators)\")\n",
    "plt.xlabel(\"n_estimators\")\n",
    "plt.ylabel(\"Accuracy\")\n",
    "plt.legend()\n",
    "plt.grid(True)\n",
    "plt.show()\n"
   ]
  },
  {
   "cell_type": "markdown",
   "id": "13fda8b8-9ce9-4488-83dc-ec0e6bbb53d8",
   "metadata": {},
   "source": [
    "## Building Gradio Web App"
   ]
  },
  {
   "cell_type": "markdown",
   "id": "588732a1-097f-4f7a-aef4-4cc311798ec9",
   "metadata": {},
   "source": [
    "Gradio allows deploying the trained model as a simple web interface.\n",
    "\n",
    "The user uploads or draws a digit image, and the model predicts the digit live.\n",
    "\n",
    "The input image is preprocessed to match the original MNIST format before prediction."
   ]
  },
  {
   "cell_type": "code",
   "execution_count": 24,
   "id": "420d8f4b-d240-48dd-a134-633dcef8ef0b",
   "metadata": {},
   "outputs": [
    {
     "name": "stdout",
     "output_type": "stream",
     "text": [
      "* Running on local URL:  http://127.0.0.1:7860\n",
      "* To create a public link, set `share=True` in `launch()`.\n"
     ]
    },
    {
     "data": {
      "text/html": [
       "<div><iframe src=\"http://127.0.0.1:7860/\" width=\"100%\" height=\"500\" allow=\"autoplay; camera; microphone; clipboard-read; clipboard-write;\" frameborder=\"0\" allowfullscreen></iframe></div>"
      ],
      "text/plain": [
       "<IPython.core.display.HTML object>"
      ]
     },
     "metadata": {},
     "output_type": "display_data"
    },
    {
     "data": {
      "text/plain": []
     },
     "execution_count": 24,
     "metadata": {},
     "output_type": "execute_result"
    }
   ],
   "source": [
    "import gradio as gr\n",
    "import cv2\n",
    "import numpy as np\n",
    "\n",
    "def predict_digit(image):\n",
    "    if len(image.shape) == 3:\n",
    "        image = cv2.cvtColor(image, cv2.COLOR_RGB2GRAY)\n",
    "    image = cv2.resize(image, (28, 28))\n",
    "    image = 255 - image\n",
    "    image = image.flatten().reshape(1, -1)\n",
    "    return int(rf_clf_aug.predict(image))\n",
    "\n",
    "iface = gr.Interface(\n",
    "    fn=predict_digit,\n",
    "    inputs=gr.Image(image_mode='L', width=28, height=28),\n",
    "    outputs=\"label\"\n",
    ")\n",
    "\n",
    "iface.launch()\n"
   ]
  },
  {
   "cell_type": "code",
   "execution_count": null,
   "id": "5d2432ef-eb31-4c89-8593-fce1b1e704ce",
   "metadata": {},
   "outputs": [],
   "source": []
  }
 ],
 "metadata": {
  "kernelspec": {
   "display_name": "Python 3 (ipykernel)",
   "language": "python",
   "name": "python3"
  },
  "language_info": {
   "codemirror_mode": {
    "name": "ipython",
    "version": 3
   },
   "file_extension": ".py",
   "mimetype": "text/x-python",
   "name": "python",
   "nbconvert_exporter": "python",
   "pygments_lexer": "ipython3",
   "version": "3.12.2"
  }
 },
 "nbformat": 4,
 "nbformat_minor": 5
}
